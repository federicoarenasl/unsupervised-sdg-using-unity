{
 "cells": [
  {
   "cell_type": "code",
   "execution_count": 5,
   "metadata": {
    "scrolled": true
   },
   "outputs": [],
   "source": [
    "from geomloss import SamplesLoss"
   ]
  },
  {
   "cell_type": "markdown",
   "metadata": {},
   "source": [
    "# Intro \n",
    "- We'll look at geomloss and MMD loss function, InceptionV3 and how to train only the last layer \n",
    "- Second part will be training an MMD GAN, where we replace the InceptionV3 network and Renderer with a classical Discriminator - Generator Convolutional Architecture \n",
    "- We need to install geomloss from the latest master branch, I'm not confident that we'll get the best results if we just do pip install. \n",
    "\n",
    "## Pending Questions (in no particular order) \n",
    "- Does the original MetaSim train the last layer of the InceptionV3 network or does it keep the whole network frozen? during the GCN learning phase?  \n",
    "- Can we learn with an MMD GAN to generate images that look like the target images, and have a sanity check that the MMD distance is indeed what we should be using (I'm not sure how valid this experiment is, since we're changing the architecture and essentially changing the problem. But it's good to test that we're doing the right thing in terms of workflow. \n",
    "- What resolution should we generate the synthetic images (target/source)? Original InceptionV3 expects 299x299 unless there's some re-writeup of the original one in MetaSim. Whatever resolution it is, it should be bigger than 299x299 and we can resize at loading time with torchvision.transforms\n",
    "- What normalization should we apply at load time on the image? Since InceptionV3 is pre-trained on ImageNet, I believe it should be the right mean and std of ImageNet. Same for test time normalization. \n",
    "- What is a good size of the last layer? Since we have no classes, we can have 100 nodes or 1000. This will probably also be driven by OOM problems \n",
    "- Do we fix the OOM problems and how fast the MMD works if we move to SamplesLoss? Can we use batch_size = 100 and images of high enough resolution? I believe the OOM problems are related to how many images we're trying to fit into a batch, not with the actual computation. \n",
    "\n",
    "## InceptionV3\n",
    "https://discuss.pytorch.org/t/how-to-optimize-inception-model-with-auxiliary-classifiers/7958\n",
    "https://pytorch.org/tutorials/beginner/finetuning_torchvision_models_tutorial.html\n",
    "\n",
    "## Using GeomLoss on sampled 10-D measures (distributions) \n",
    " - you first have to \"create\" two distributions that you want to compare\n",
    " - I will use multivariate gaussians, instead of 1-D gaussians, since this is what we have if we move to images. \n",
    " - for example, I have created two gaussians: \n",
    "     - they can be fully specified by their mean and variance \n",
    "     - they can also be specified by sampling from them, which is more in line with what we have. \n",
    " - you can think of images as samples from some unknown data distribution \n",
    " - this loss function then allows you to compare two distributions, by comparing their samples. The more samples you have, the more accurate the comparison. \n",
    " - we'll use the \"energy\" kernel and the \"gaussian\" kernel or the \"laplacian\" kernels \n",
    " - see this [nice post](https://stats.stackexchange.com/questions/276497/maximum-mean-discrepancy-distance-distribution) about MMD and kernels \n",
    " - a lot more theoretical is [page 97 of this PHD thesis (Author of geomloss)](https://www.jeanfeydy.com/geometric_data_analysis.pdf)\n",
    " \n",
    " *Ref from the library: https://www.kernel-operations.io/geomloss/api/pytorch-api.html "
   ]
  },
  {
   "cell_type": "code",
   "execution_count": 39,
   "metadata": {},
   "outputs": [],
   "source": [
    "from __future__ import print_function, division\n",
    "%matplotlib inline\n",
    "import os\n",
    "import glob\n",
    "import sys\n",
    "\n",
    "import matplotlib.pyplot as plt\n",
    "import seaborn as sns \n",
    "sns.set_style('whitegrid')\n",
    "from pathlib import Path\n",
    "sys.path.append(\"..\")\n",
    "import imageio\n",
    "import matplotlib as mpl\n",
    "import itertools\n",
    "\n",
    "import pandas as pd\n",
    "import numpy as np\n",
    "#from sklearn.metrics.pairwise import rbf_kernel, euclidean_distances\n",
    "import random\n",
    "import matplotlib.pylab as pl\n",
    "from mpl_toolkits.mplot3d import Axes3D  # noqa\n",
    "\n",
    "# Torch Dataset & Utils\n",
    "import torch\n",
    "from torchvision import models\n",
    "from torch.utils.data import Dataset, DataLoader, TensorDataset\n",
    "import torchvision\n",
    "from torchvision import transforms, utils\n",
    "from torchvision.utils import save_image\n",
    "\n",
    "# Optimizer, Functions, Distributions\n",
    "from torch.autograd import Variable\n",
    "import torch.nn.functional as F \n",
    "import torch.optim as optim\n",
    "from torch import nn \n",
    "import torch.distributions as ds\n",
    "import torchvision.utils as vutils\n",
    "from torch.nn.utils import spectral_norm\n",
    "\n",
    "import geomloss\n",
    "from geomloss import SamplesLoss\n",
    "# SRW imports from nldr\n",
    "# from nldr.datasets.synthetic import GaussianDataset\n",
    "\n",
    "# Useful\n",
    "get_types = lambda x :[(a, getattr(x, a)) for a in dir(x) if not callable(getattr(x, a)) and a[0] != '_']\n",
    "\n",
    "# Change this to run locally \n",
    "parent_dir = \"/home/federicoarenasl/Documents/Federico/UoE/MSC_AI/Thesis_project/implementation/meta-sim/custom-sim/data/geomloss/high_res/unity\"\n",
    "source_images_0 = os.path.join(parent_dir, \"prior/0\")\n",
    "source_images_15 = os.path.join(parent_dir, \"prior/15\")\n",
    "source_images_45 = os.path.join(parent_dir, \"prior/45\")\n",
    "source_images_90 = os.path.join(parent_dir, \"prior/90\")\n",
    "target_images = os.path.join(parent_dir, \"target\")"
   ]
  },
  {
   "cell_type": "code",
   "execution_count": 40,
   "metadata": {},
   "outputs": [],
   "source": [
    "numpy = lambda x : x.detach().cpu().numpy()\n",
    "transpose = lambda x: np.transpose(numpy(x), (1, 2, 0))\n",
    "positive = lambda x: [np.abs(a) for a in x]\n",
    "gpu = torch.cuda.is_available()\n",
    "device = None\n",
    "if gpu:\n",
    "    device = torch.device('cuda:0')\n",
    "else:\n",
    "    device = torch.device('cpu')      "
   ]
  },
  {
   "cell_type": "markdown",
   "metadata": {},
   "source": [
    "## MMD between Image samples \n",
    "   - Step 1: Create a torch Dataset and DataLoaders for our datasets, so we can sample \n",
    "   - Step 2: Use an \"encoder\" to push images from 32x32 to size 10 and compute MMD in the \"feature\" space \n",
    "   - Step 4: Train a GAN MMD to \"generate\" samples that look like the target samples. \n",
    "   - Step 5: Replace GAN MMD with a renderer and use only the \"encoder\" part "
   ]
  },
  {
   "cell_type": "code",
   "execution_count": 41,
   "metadata": {},
   "outputs": [],
   "source": [
    "#from torchvision.io import read_image\n",
    "from PIL import Image, ImageFile\n",
    "\n",
    "class ShoeDataset(Dataset):\n",
    "    def __init__(self, root: str, transforms=None):\n",
    "\n",
    "        super(ShoeDataset, self).__init__()\n",
    "        self.root = Path(root)\n",
    "        self.transforms = transforms\n",
    "        \n",
    "        self.imgs_path = sorted([file for file in self.root.iterdir()]) \n",
    "        \n",
    "\n",
    "    def __getitem__(self, idx: int):\n",
    "\n",
    "        # Load Image\n",
    "        img_path = self.root / self.imgs_path[idx]\n",
    "        \n",
    "        #read_image(str(img_path))\n",
    "        orig_img = Image.open(str(img_path)).convert(\"RGB\")\n",
    "        #image_np = np.asarray(orig_img).astype(np.float32)\n",
    "        \n",
    "        if self.transforms:\n",
    "            #return self.augmentations(image=image_np)['image'], label\n",
    "            return self.transforms(orig_img)\n",
    "        else:\n",
    "            return image\n",
    "\n",
    "    def __len__(self) -> int:\n",
    "        return len(self.imgs_path)\n",
    "\n",
    "    def collate_fn(self, batch):\n",
    "        return tuple(zip(*batch))\n",
    "\n",
    "IMAGE_SIZE = 224\n",
    "# We should generate images that are big, but resize them to Inception scale before using the model \n",
    "# We don't want to upscale the images \n",
    "# **Important**: In contrast to the other models the inception_v3 expects tensors with a size of\n",
    "# N x 3 x 299 x 299, so ensure your images are sized accordingly.\n",
    "\n",
    "IMAGE_SIZE_INCEPTION = 299 \n",
    "shoe_transformer = torchvision.transforms.Compose([\n",
    "                               torchvision.transforms.Resize(IMAGE_SIZE_INCEPTION),\n",
    "                               #torchvision.transforms.CenterCrop(IMAGE_SIZE),\n",
    "                               torchvision.transforms.ToTensor(),\n",
    "                               #torchvision.transforms.Normalize([0.485, 0.456, 0.406], [0.229, 0.224, 0.225])\n",
    "                             ])\n",
    "default_transformer = torchvision.transforms.ToTensor()"
   ]
  },
  {
   "cell_type": "code",
   "execution_count": 42,
   "metadata": {},
   "outputs": [],
   "source": [
    "source_dataset_0 = ShoeDataset(root = source_images_0, transforms = shoe_transformer)\n",
    "target_dataset = ShoeDataset(root = target_images, transforms = shoe_transformer)\n",
    "\n",
    "# Assign batch size the whole dataset \n",
    "bs_source_0 = len(source_dataset_0)\n",
    "bs_target = len(target_dataset)\n",
    "\n",
    "source_loader_0 = DataLoader(source_dataset_0, batch_size = bs_source_0, shuffle = True, drop_last=False)\n",
    "source_loader_15 = DataLoader(source_dataset_0, batch_size = bs_source_0, shuffle = True, drop_last=False)\n",
    "source_loader_45 = DataLoader(source_dataset_0, batch_size = bs_source_0, shuffle = True, drop_last=False)\n",
    "source_loader_90 = DataLoader(source_dataset_0, batch_size = bs_source_0, shuffle = True, drop_last=False)\n",
    "target_loader = DataLoader(target_dataset, batch_size = bs_target, shuffle = True, drop_last=False)"
   ]
  },
  {
   "cell_type": "code",
   "execution_count": 43,
   "metadata": {},
   "outputs": [],
   "source": [
    "X1 = iter(source_loader_0).next()\n",
    "X2 = iter(target_loader).next()"
   ]
  },
  {
   "cell_type": "code",
   "execution_count": 44,
   "metadata": {
    "scrolled": true
   },
   "outputs": [
    {
     "name": "stdout",
     "output_type": "stream",
     "text": [
      "torch.Size([100, 3, 299, 299]) torch.Size([100, 3, 299, 299])\n"
     ]
    }
   ],
   "source": [
    "print(X1.shape, X2.shape)"
   ]
  },
  {
   "cell_type": "code",
   "execution_count": 45,
   "metadata": {
    "scrolled": true
   },
   "outputs": [
    {
     "data": {
      "image/png": "[encoded data removed]",
      "text/plain": [
       "<Figure size 432x288 with 1 Axes>"
      ]
     },
     "metadata": {},
     "output_type": "display_data"
    }
   ],
   "source": [
    "plt.imshow(transpose(X1[1]));"
   ]
  },
  {
   "cell_type": "code",
   "execution_count": 46,
   "metadata": {
    "scrolled": true
   },
   "outputs": [],
   "source": [
    "# If we set transform_input to True, it will normalize the images according to the ImageNet training  \n",
    "# See https://pytorch.org/tutorials/beginner/finetuning_torchvision_models_tutorial.html\n",
    "# Inception V3 always needs 299 as input size, so when you go from 32x32 to 299, you do upsampling which is no no. \n",
    "# https://pytorch.org/vision/stable/_modules/torchvision/models/inception.html\n",
    "model_inception = models.inception_v3(pretrained=True, transform_input=True)"
   ]
  },
  {
   "cell_type": "code",
   "execution_count": 26,
   "metadata": {},
   "outputs": [
    {
     "data": {
      "text/plain": [
       "Linear(in_features=768, out_features=1000, bias=True)"
      ]
     },
     "execution_count": 26,
     "metadata": {},
     "output_type": "execute_result"
    }
   ],
   "source": [
    "# Auxiliary net \n",
    "model_inception.AuxLogits.fc"
   ]
  },
  {
   "cell_type": "code",
   "execution_count": 27,
   "metadata": {},
   "outputs": [
    {
     "data": {
      "text/plain": [
       "Linear(in_features=2048, out_features=1000, bias=True)"
      ]
     },
     "execution_count": 27,
     "metadata": {},
     "output_type": "execute_result"
    }
   ],
   "source": [
    "# Primary net\n",
    "model_inception.fc"
   ]
  },
  {
   "cell_type": "code",
   "execution_count": 28,
   "metadata": {},
   "outputs": [],
   "source": [
    "def set_parameter_requires_grad(model, feature_extract):\n",
    "    if feature_extract:\n",
    "        for param in model.parameters():\n",
    "            param.requires_grad = False"
   ]
  },
  {
   "cell_type": "code",
   "execution_count": 32,
   "metadata": {},
   "outputs": [],
   "source": [
    "# input_size = 299\n",
    "# Set output layer to 100 because why not \n",
    "out_features = 100 \n",
    "\n",
    "# When feature_extract is True, you only train the very last layer! Super important and useful! \n",
    "set_parameter_requires_grad(model_inception, feature_extract=True)\n",
    "\n",
    "# Handle the auxilary net\n",
    "model_inception.AuxLogits.fc = nn.Linear(768, out_features)\n",
    "\n",
    "# Handle the primary net\n",
    "model_inception.fc = nn.Linear(2048,out_features)"
   ]
  },
  {
   "cell_type": "code",
   "execution_count": 34,
   "metadata": {},
   "outputs": [
    {
     "data": {
      "text/plain": [
       "Linear(in_features=2048, out_features=100, bias=True)"
      ]
     },
     "execution_count": 34,
     "metadata": {},
     "output_type": "execute_result"
    }
   ],
   "source": [
    "model_inception.fc"
   ]
  },
  {
   "cell_type": "code",
   "execution_count": 35,
   "metadata": {},
   "outputs": [
    {
     "data": {
      "text/plain": [
       "Linear(in_features=768, out_features=100, bias=True)"
      ]
     },
     "execution_count": 35,
     "metadata": {},
     "output_type": "execute_result"
    }
   ],
   "source": [
    "model_inception.AuxLogits.fc"
   ]
  },
  {
   "cell_type": "code",
   "execution_count": 41,
   "metadata": {},
   "outputs": [
    {
     "data": {
      "text/plain": [
       "torch.Size([100, 3, 299, 299])"
      ]
     },
     "execution_count": 41,
     "metadata": {},
     "output_type": "execute_result"
    }
   ],
   "source": [
    "X1.shape"
   ]
  },
  {
   "cell_type": "code",
   "execution_count": 42,
   "metadata": {},
   "outputs": [],
   "source": [
    "outputs_X1, aux_outputs_X1 = model_inception(X1) # shape batch_size = 100, outdim = 100 \n",
    "out_features_X2, aux_outputs_X2 = model_inception(X2) # shape batch_size = 100, out_dim = 100"
   ]
  },
  {
   "cell_type": "code",
   "execution_count": 43,
   "metadata": {},
   "outputs": [
    {
     "data": {
      "text/plain": [
       "torch.Size([100, 100])"
      ]
     },
     "execution_count": 43,
     "metadata": {},
     "output_type": "execute_result"
    }
   ],
   "source": [
    "outputs_X1.shape"
   ]
  },
  {
   "cell_type": "code",
   "execution_count": 44,
   "metadata": {},
   "outputs": [
    {
     "data": {
      "text/plain": [
       "torch.Size([100, 100])"
      ]
     },
     "execution_count": 44,
     "metadata": {},
     "output_type": "execute_result"
    }
   ],
   "source": [
    "out_features_X2.shape"
   ]
  },
  {
   "cell_type": "code",
   "execution_count": 45,
   "metadata": {},
   "outputs": [
    {
     "data": {
      "text/plain": [
       "tensor([[ 0.0101,  0.3206,  0.0972,  ...,  0.2486, -0.1927, -0.1044],\n",
       "        [ 0.3984,  0.0643, -0.0774,  ...,  0.3320, -0.3805, -0.0983],\n",
       "        [-0.0729,  0.0395, -0.1674,  ...,  0.3201,  0.0305,  0.1747],\n",
       "        ...,\n",
       "        [-0.0713, -0.2683,  0.3195,  ...,  0.0904, -0.4413,  0.2400],\n",
       "        [ 0.1190, -0.0522, -0.0594,  ...,  0.1513, -0.4681, -0.2497],\n",
       "        [-0.1271,  0.1283,  0.1370,  ...,  0.0286, -0.0078,  0.0706]])"
      ]
     },
     "execution_count": 45,
     "metadata": {},
     "output_type": "execute_result"
    }
   ],
   "source": [
    "out_features_X2"
   ]
  },
  {
   "cell_type": "code",
   "execution_count": 46,
   "metadata": {},
   "outputs": [
    {
     "name": "stdout",
     "output_type": "stream",
     "text": [
      "MMD Energy between feature space is:  tensor(0.0157)\n"
     ]
    }
   ],
   "source": [
    "# Now that we have the features, we get an instant result for the MMD :) \n",
    "print(\"MMD Energy between feature space is: \", loss_mmd_gaussian(outputs_X1, out_features_X2))"
   ]
  },
  {
   "cell_type": "code",
   "execution_count": 47,
   "metadata": {},
   "outputs": [
    {
     "name": "stdout",
     "output_type": "stream",
     "text": [
      "MMD Energy between feature space is:  tensor(0.0336)\n"
     ]
    }
   ],
   "source": [
    "print(\"MMD Energy between feature space is: \", loss_mmd_energy(outputs_X1, out_features_X2))"
   ]
  },
  {
   "cell_type": "markdown",
   "metadata": {},
   "source": [
    "**Important: During training, we have to create two losses for the InceptionV3, based on the two heads the network has. At test time we only use the main network head**"
   ]
  },
  {
   "cell_type": "code",
   "execution_count": 52,
   "metadata": {},
   "outputs": [
    {
     "name": "stdout",
     "output_type": "stream",
     "text": [
      "Final loss is:  tensor(0.1829)\n"
     ]
    }
   ],
   "source": [
    "# Combine losses from outputs and auxiliary outputs\n",
    "loss1 = loss_mmd_gaussian(outputs_X1, out_features_X2)\n",
    "loss2 = loss_mmd_gaussian(aux_outputs_X1, aux_outputs_X2)\n",
    "loss = loss1 + 0.4*loss2\n",
    "print(\"Final loss is: \", loss)"
   ]
  },
  {
   "cell_type": "code",
   "execution_count": null,
   "metadata": {},
   "outputs": [],
   "source": []
  }
 ],
 "metadata": {
  "kernelspec": {
   "display_name": "Python 3.7.10 64-bit ('metasim': conda)",
   "language": "python",
   "name": "python3710jvsc74a57bd01381974e8240e6182900334f3d89a6675614ed41eccefd705451eb79e2d827cc"
  },
  "language_info": {
   "codemirror_mode": {
    "name": "ipython",
    "version": 3
   },
   "file_extension": ".py",
   "mimetype": "text/x-python",
   "name": "python",
   "nbconvert_exporter": "python",
   "pygments_lexer": "ipython3",
   "version": "3.7.10"
  }
 },
 "nbformat": 4,
 "nbformat_minor": 5
}
